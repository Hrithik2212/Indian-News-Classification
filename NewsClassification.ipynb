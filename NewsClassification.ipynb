{
  "nbformat": 4,
  "nbformat_minor": 0,
  "metadata": {
    "colab": {
      "provenance": [],
      "authorship_tag": "ABX9TyMEa11EagR/GXkgfRKfTJfR",
      "include_colab_link": true
    },
    "kernelspec": {
      "name": "python3",
      "display_name": "Python 3"
    },
    "language_info": {
      "name": "python"
    }
  },
  "cells": [
    {
      "cell_type": "markdown",
      "metadata": {
        "id": "view-in-github",
        "colab_type": "text"
      },
      "source": [
        "<a href=\"https://colab.research.google.com/github/Hrithik2212/Indian-News-Classification/blob/main/NewsClassification.ipynb\" target=\"_parent\"><img src=\"https://colab.research.google.com/assets/colab-badge.svg\" alt=\"Open In Colab\"/></a>"
      ]
    },
    {
      "cell_type": "markdown",
      "source": [
        "# News Classification on the Indian Fake News Dataset from Kaggle"
      ],
      "metadata": {
        "id": "R7WRYUOgKo2x"
      }
    },
    {
      "cell_type": "code",
      "source": [
        "import pandas as pd\n",
        "import numpy as np \n",
        "import matplotlib.pyplot as plt \n",
        "import seaborn as sns \n",
        "import nltk \n",
        "nltk.download('stopwords')\n",
        "from nltk.corpus import stopwords\n",
        "import warnings \n",
        "warnings.filterwarnings('ignore')\n",
        "import re \n",
        "import tensorflow as tf \n",
        "from tensorflow.keras import layers \n",
        "from tensorflow.keras.models import Sequential \n",
        "from tensorflow.keras.optimizers import Adam\n",
        "from sklearn.model_selection import train_test_split as tts \n",
        "from sklearn.naive_bayes import MultinomialNB\n",
        "from sklearn.metrics import classification_report as cr\n",
        "from sklearn.metrics import confusion_matrix as cm\n",
        "from tensorflow.keras.layers.experimental.preprocessing import TextVectorization\n",
        "from sklearn.feature_extraction.text import TfidfVectorizer\n",
        "from sklearn.pipeline import Pipeline\n"
      ],
      "metadata": {
        "colab": {
          "base_uri": "https://localhost:8080/"
        },
        "id": "FC-THOhUKxEO",
        "outputId": "725c9b4c-a47b-41a5-e1be-97d6a8c05032"
      },
      "execution_count": 18,
      "outputs": [
        {
          "output_type": "stream",
          "name": "stderr",
          "text": [
            "[nltk_data] Downloading package stopwords to /root/nltk_data...\n",
            "[nltk_data]   Package stopwords is already up-to-date!\n"
          ]
        }
      ]
    },
    {
      "cell_type": "markdown",
      "source": [
        "\n",
        "## Data Exploration and Preprocessing "
      ],
      "metadata": {
        "id": "cJA3g7P3MYPj"
      }
    },
    {
      "cell_type": "code",
      "source": [
        "data = pd.read_csv('/content/news_dataset.csv')\n",
        "data.head(1)"
      ],
      "metadata": {
        "colab": {
          "base_uri": "https://localhost:8080/",
          "height": 81
        },
        "id": "pkciaElSL9d5",
        "outputId": "c949c24c-3583-4b4c-f769-b5198e7705de"
      },
      "execution_count": 48,
      "outputs": [
        {
          "output_type": "execute_result",
          "data": {
            "text/plain": [
              "  label                                               text\n",
              "0  REAL  Payal has accused filmmaker Anurag Kashyap of ..."
            ],
            "text/html": [
              "\n",
              "  <div id=\"df-a9d08bec-cc28-4003-a5fd-8b63720d4222\">\n",
              "    <div class=\"colab-df-container\">\n",
              "      <div>\n",
              "<style scoped>\n",
              "    .dataframe tbody tr th:only-of-type {\n",
              "        vertical-align: middle;\n",
              "    }\n",
              "\n",
              "    .dataframe tbody tr th {\n",
              "        vertical-align: top;\n",
              "    }\n",
              "\n",
              "    .dataframe thead th {\n",
              "        text-align: right;\n",
              "    }\n",
              "</style>\n",
              "<table border=\"1\" class=\"dataframe\">\n",
              "  <thead>\n",
              "    <tr style=\"text-align: right;\">\n",
              "      <th></th>\n",
              "      <th>label</th>\n",
              "      <th>text</th>\n",
              "    </tr>\n",
              "  </thead>\n",
              "  <tbody>\n",
              "    <tr>\n",
              "      <th>0</th>\n",
              "      <td>REAL</td>\n",
              "      <td>Payal has accused filmmaker Anurag Kashyap of ...</td>\n",
              "    </tr>\n",
              "  </tbody>\n",
              "</table>\n",
              "</div>\n",
              "      <button class=\"colab-df-convert\" onclick=\"convertToInteractive('df-a9d08bec-cc28-4003-a5fd-8b63720d4222')\"\n",
              "              title=\"Convert this dataframe to an interactive table.\"\n",
              "              style=\"display:none;\">\n",
              "        \n",
              "  <svg xmlns=\"http://www.w3.org/2000/svg\" height=\"24px\"viewBox=\"0 0 24 24\"\n",
              "       width=\"24px\">\n",
              "    <path d=\"M0 0h24v24H0V0z\" fill=\"none\"/>\n",
              "    <path d=\"M18.56 5.44l.94 2.06.94-2.06 2.06-.94-2.06-.94-.94-2.06-.94 2.06-2.06.94zm-11 1L8.5 8.5l.94-2.06 2.06-.94-2.06-.94L8.5 2.5l-.94 2.06-2.06.94zm10 10l.94 2.06.94-2.06 2.06-.94-2.06-.94-.94-2.06-.94 2.06-2.06.94z\"/><path d=\"M17.41 7.96l-1.37-1.37c-.4-.4-.92-.59-1.43-.59-.52 0-1.04.2-1.43.59L10.3 9.45l-7.72 7.72c-.78.78-.78 2.05 0 2.83L4 21.41c.39.39.9.59 1.41.59.51 0 1.02-.2 1.41-.59l7.78-7.78 2.81-2.81c.8-.78.8-2.07 0-2.86zM5.41 20L4 18.59l7.72-7.72 1.47 1.35L5.41 20z\"/>\n",
              "  </svg>\n",
              "      </button>\n",
              "      \n",
              "  <style>\n",
              "    .colab-df-container {\n",
              "      display:flex;\n",
              "      flex-wrap:wrap;\n",
              "      gap: 12px;\n",
              "    }\n",
              "\n",
              "    .colab-df-convert {\n",
              "      background-color: #E8F0FE;\n",
              "      border: none;\n",
              "      border-radius: 50%;\n",
              "      cursor: pointer;\n",
              "      display: none;\n",
              "      fill: #1967D2;\n",
              "      height: 32px;\n",
              "      padding: 0 0 0 0;\n",
              "      width: 32px;\n",
              "    }\n",
              "\n",
              "    .colab-df-convert:hover {\n",
              "      background-color: #E2EBFA;\n",
              "      box-shadow: 0px 1px 2px rgba(60, 64, 67, 0.3), 0px 1px 3px 1px rgba(60, 64, 67, 0.15);\n",
              "      fill: #174EA6;\n",
              "    }\n",
              "\n",
              "    [theme=dark] .colab-df-convert {\n",
              "      background-color: #3B4455;\n",
              "      fill: #D2E3FC;\n",
              "    }\n",
              "\n",
              "    [theme=dark] .colab-df-convert:hover {\n",
              "      background-color: #434B5C;\n",
              "      box-shadow: 0px 1px 3px 1px rgba(0, 0, 0, 0.15);\n",
              "      filter: drop-shadow(0px 1px 2px rgba(0, 0, 0, 0.3));\n",
              "      fill: #FFFFFF;\n",
              "    }\n",
              "  </style>\n",
              "\n",
              "      <script>\n",
              "        const buttonEl =\n",
              "          document.querySelector('#df-a9d08bec-cc28-4003-a5fd-8b63720d4222 button.colab-df-convert');\n",
              "        buttonEl.style.display =\n",
              "          google.colab.kernel.accessAllowed ? 'block' : 'none';\n",
              "\n",
              "        async function convertToInteractive(key) {\n",
              "          const element = document.querySelector('#df-a9d08bec-cc28-4003-a5fd-8b63720d4222');\n",
              "          const dataTable =\n",
              "            await google.colab.kernel.invokeFunction('convertToInteractive',\n",
              "                                                     [key], {});\n",
              "          if (!dataTable) return;\n",
              "\n",
              "          const docLinkHtml = 'Like what you see? Visit the ' +\n",
              "            '<a target=\"_blank\" href=https://colab.research.google.com/notebooks/data_table.ipynb>data table notebook</a>'\n",
              "            + ' to learn more about interactive tables.';\n",
              "          element.innerHTML = '';\n",
              "          dataTable['output_type'] = 'display_data';\n",
              "          await google.colab.output.renderOutput(dataTable, element);\n",
              "          const docLink = document.createElement('div');\n",
              "          docLink.innerHTML = docLinkHtml;\n",
              "          element.appendChild(docLink);\n",
              "        }\n",
              "      </script>\n",
              "    </div>\n",
              "  </div>\n",
              "  "
            ]
          },
          "metadata": {},
          "execution_count": 48
        }
      ]
    },
    {
      "cell_type": "code",
      "source": [
        "data.info()"
      ],
      "metadata": {
        "colab": {
          "base_uri": "https://localhost:8080/"
        },
        "id": "YRSMzyMeMilK",
        "outputId": "0b5ad8f1-da7b-4aae-a8d7-0ce3cd59bd2f"
      },
      "execution_count": 49,
      "outputs": [
        {
          "output_type": "stream",
          "name": "stdout",
          "text": [
            "<class 'pandas.core.frame.DataFrame'>\n",
            "RangeIndex: 3729 entries, 0 to 3728\n",
            "Data columns (total 2 columns):\n",
            " #   Column  Non-Null Count  Dtype \n",
            "---  ------  --------------  ----- \n",
            " 0   label   3729 non-null   object\n",
            " 1   text    3721 non-null   object\n",
            "dtypes: object(2)\n",
            "memory usage: 58.4+ KB\n"
          ]
        }
      ]
    },
    {
      "cell_type": "code",
      "source": [
        "m = data.label.value_counts()\n",
        "m.plot(kind='barh')\n",
        "plt.title(\"Target Distribution\")"
      ],
      "metadata": {
        "colab": {
          "base_uri": "https://localhost:8080/",
          "height": 299
        },
        "id": "EFrdmQSuMnQK",
        "outputId": "fc8b038f-b41f-49c4-ef26-338ef2d87072"
      },
      "execution_count": 50,
      "outputs": [
        {
          "output_type": "execute_result",
          "data": {
            "text/plain": [
              "Text(0.5, 1.0, 'Target Distribution')"
            ]
          },
          "metadata": {},
          "execution_count": 50
        },
        {
          "output_type": "display_data",
          "data": {
            "text/plain": [
              "<Figure size 432x288 with 1 Axes>"
            ],
            "image/png": "[encoded data removed]"
          },
          "metadata": {
            "needs_background": "light"
          }
        }
      ]
    },
    {
      "cell_type": "code",
      "source": [
        "data['text']"
      ],
      "metadata": {
        "colab": {
          "base_uri": "https://localhost:8080/"
        },
        "id": "cmrSfNn4PV-N",
        "outputId": "4c54a115-5a17-4a12-8c26-f73f52f44a7d"
      },
      "execution_count": 51,
      "outputs": [
        {
          "output_type": "execute_result",
          "data": {
            "text/plain": [
              "0       Payal has accused filmmaker Anurag Kashyap of ...\n",
              "1       A four-minute-long video of a woman criticisin...\n",
              "2       Republic Poll, a fake Twitter account imitatin...\n",
              "3       Delhi teen finds place on UN green list, turns...\n",
              "4       Delhi: A high-level meeting underway at reside...\n",
              "                              ...                        \n",
              "3724    19:17 (IST) Sep 20\\n\\nThe second round of coun...\n",
              "3725    19:17 (IST) Sep 20\\n\\nThe second round of coun...\n",
              "3726    The Bengaluru City Police’s official Twitter h...\n",
              "3727    Sep 20, 2020, 08:00AM IST\\n\\nSource: TOI.in\\n\\...\n",
              "3728    Read Also\\n\\nRead Also\\n\\nAdvocate Ishkaran Bh...\n",
              "Name: text, Length: 3729, dtype: object"
            ]
          },
          "metadata": {},
          "execution_count": 51
        }
      ]
    },
    {
      "cell_type": "code",
      "source": [
        "# stopword removal\n",
        "stop_words = set(stopwords.words('english'))\n",
        "def sw_remove(text) :\n",
        "  words = [word for word in str(text).split() if word.lower() not in stop_words]\n",
        "  txt = ' '.join([str(elem) for elem in words])\n",
        "  return txt \n",
        "\n",
        "for i in range(len(data)):\n",
        "  data['text'][i] = sw_remove(data['text'][i])\n",
        "# data['text'] = data['text'].apply(sw_remove)"
      ],
      "metadata": {
        "id": "1RElF3IkMwBP"
      },
      "execution_count": 52,
      "outputs": []
    },
    {
      "cell_type": "code",
      "source": [
        "data['label'] = data['label'].apply(lambda x:0 if x == 'FAKE' else 1)"
      ],
      "metadata": {
        "id": "S4gmpL6SUeYG"
      },
      "execution_count": 53,
      "outputs": []
    },
    {
      "cell_type": "code",
      "source": [
        "X_train , X_test , y_train , y_test = tts(data['text'],data['label'],test_size=0.2)\n",
        "len(X_train) , len(X_test) , len(y_train) , len(y_test)"
      ],
      "metadata": {
        "colab": {
          "base_uri": "https://localhost:8080/"
        },
        "id": "iKPTIuKBTe3j",
        "outputId": "23f95d8d-62a9-47bb-ef0a-89ceff1b4794"
      },
      "execution_count": 54,
      "outputs": [
        {
          "output_type": "execute_result",
          "data": {
            "text/plain": [
              "(2983, 746, 2983, 746)"
            ]
          },
          "metadata": {},
          "execution_count": 54
        }
      ]
    },
    {
      "cell_type": "code",
      "source": [
        "def plot_metrics(y_pred , y_test):\n",
        "  print(cr(y_test , y_pred))\n",
        "  sns.heatmap(cm(y_test,y_pred),annot =True , fmt = 'g' ,cmap='Blues')\n",
        "     "
      ],
      "metadata": {
        "id": "4kWo4aASUYKe"
      },
      "execution_count": 57,
      "outputs": []
    },
    {
      "cell_type": "markdown",
      "source": [
        "## Naive Bayes "
      ],
      "metadata": {
        "id": "GP54IPa-TcGf"
      }
    },
    {
      "cell_type": "code",
      "source": [
        "model0 = Pipeline([\n",
        "                    (\"tfidf\", TfidfVectorizer()), # convert words to numbers using tfidf\n",
        "                    (\"Bayes_Classifier\", MultinomialNB()) # model the text\n",
        "])\n",
        "model0.fit(X_train , y_train)\n",
        "y_pred = model0.predict(X_test)\n",
        "plot_metrics(y_test,y_pred)"
      ],
      "metadata": {
        "colab": {
          "base_uri": "https://localhost:8080/",
          "height": 426
        },
        "id": "OV9IN4ZmTWCt",
        "outputId": "42a2cc07-f64c-4051-ba36-9e70bd26c8c5"
      },
      "execution_count": 58,
      "outputs": [
        {
          "output_type": "stream",
          "name": "stdout",
          "text": [
            "              precision    recall  f1-score   support\n",
            "\n",
            "           0       0.99      0.97      0.98       408\n",
            "           1       0.96      0.99      0.98       338\n",
            "\n",
            "    accuracy                           0.98       746\n",
            "   macro avg       0.98      0.98      0.98       746\n",
            "weighted avg       0.98      0.98      0.98       746\n",
            "\n"
          ]
        },
        {
          "output_type": "display_data",
          "data": {
            "text/plain": [
              "<Figure size 432x288 with 2 Axes>"
            ],
            "image/png": "[encoded data removed]"
          },
          "metadata": {
            "needs_background": "light"
          }
        }
      ]
    },
    {
      "cell_type": "markdown",
      "source": [
        "## Single Layer Perceptron"
      ],
      "metadata": {
        "id": "BnEPXKspVsXt"
      }
    },
    {
      "cell_type": "code",
      "source": [
        "text_vectorizer = TextVectorization(max_tokens = 20000,\n",
        "                                   output_mode= 'int' ,\n",
        "                                   output_sequence_length=25,\n",
        "                                   )\n",
        "text_vectorizer.adapt(X_train)"
      ],
      "metadata": {
        "id": "XJAZ13WhWghs"
      },
      "execution_count": 63,
      "outputs": []
    },
    {
      "cell_type": "code",
      "source": [
        "embedding = layers.Embedding(input_dim=20000, # set input shape\n",
        "                             output_dim=128, # set size of embedding vector\n",
        "                             embeddings_initializer=\"uniform\", # default, intialize randomly\n",
        "                             input_length=25, # how long is each input\n",
        "                             name=\"embedding_1\") \n",
        "\n",
        "embedding\n",
        "     "
      ],
      "metadata": {
        "colab": {
          "base_uri": "https://localhost:8080/"
        },
        "id": "bMRBJ2gkWcLV",
        "outputId": "f5a8dd21-ee54-4b81-b569-fa3b8efd2c39"
      },
      "execution_count": 61,
      "outputs": [
        {
          "output_type": "execute_result",
          "data": {
            "text/plain": [
              "<keras.layers.core.embedding.Embedding at 0x7f3d7a1b1040>"
            ]
          },
          "metadata": {},
          "execution_count": 61
        }
      ]
    },
    {
      "cell_type": "code",
      "source": [
        "from tensorflow.keras.layers import Input, Dense, Flatten, Dropout, BatchNormalization\n",
        "from tensorflow.keras import layers\n",
        "inputs = layers.Input(shape=(1,), dtype=\"string\") # inputs are 1-dimensional strings\n",
        "x = text_vectorizer(inputs) # turn the input text into numbers\n",
        "x = embedding(x) # create an embedding of the numerized numbers\n",
        "x = layers.GlobalAveragePooling1D()(x) # lower the dimensionality of the embedding (try running the model without this layer and see what happens)\n",
        "dense1 = layers.Dense(128, activation=\"relu\",\n",
        "                      kernel_regularizer=tf.keras.regularizers.L1(0.01),\n",
        "                      activity_regularizer=tf.keras.regularizers.L2(0.01))(x) \n",
        "dropout = layers.Dropout(0.5)(dense1)\n",
        "outputs = layers.Dense(1,activation = 'sigmoid')(dropout) # create the output layer, want binary outputs so use sigmoid activation\n",
        "Model_1 = tf.keras.Model(inputs, outputs, name=\"FNN\") # construct the model\n",
        "Model_1.summary()\n",
        "\n",
        "Model_1.compile(loss=\"binary_crossentropy\",\n",
        "                optimizer=Adam(),\n",
        "                metrics=[\"accuracy\"])\n",
        "\n",
        "Model_1_history = Model_1.fit(X_train,\n",
        "                              y_train,\n",
        "                              epochs =10,\n",
        "                              validation_data = (X_test,y_test),\n",
        "                              )\n",
        "     "
      ],
      "metadata": {
        "colab": {
          "base_uri": "https://localhost:8080/"
        },
        "id": "yrvjGuTBVrrs",
        "outputId": "1b8c5b69-9c1c-4e62-8794-c6fe1a2f0064"
      },
      "execution_count": 64,
      "outputs": [
        {
          "output_type": "stream",
          "name": "stdout",
          "text": [
            "Model: \"FNN\"\n",
            "_________________________________________________________________\n",
            " Layer (type)                Output Shape              Param #   \n",
            "=================================================================\n",
            " input_2 (InputLayer)        [(None, 1)]               0         \n",
            "                                                                 \n",
            " text_vectorization_1 (TextV  (None, 25)               0         \n",
            " ectorization)                                                   \n",
            "                                                                 \n",
            " embedding_1 (Embedding)     (None, 25, 128)           2560000   \n",
            "                                                                 \n",
            " global_average_pooling1d_1   (None, 128)              0         \n",
            " (GlobalAveragePooling1D)                                        \n",
            "                                                                 \n",
            " dense_2 (Dense)             (None, 128)               16512     \n",
            "                                                                 \n",
            " dropout_1 (Dropout)         (None, 128)               0         \n",
            "                                                                 \n",
            " dense_3 (Dense)             (None, 1)                 129       \n",
            "                                                                 \n",
            "=================================================================\n",
            "Total params: 2,576,641\n",
            "Trainable params: 2,576,641\n",
            "Non-trainable params: 0\n",
            "_________________________________________________________________\n",
            "Epoch 1/10\n",
            "94/94 [==============================] - 6s 54ms/step - loss: 7.2149 - accuracy: 0.8971 - val_loss: 2.5809 - val_accuracy: 0.9772\n",
            "Epoch 2/10\n",
            "94/94 [==============================] - 3s 36ms/step - loss: 1.1435 - accuracy: 0.8458 - val_loss: 0.7204 - val_accuracy: 0.4692\n",
            "Epoch 3/10\n",
            "94/94 [==============================] - 3s 35ms/step - loss: 0.7135 - accuracy: 0.5850 - val_loss: 0.7122 - val_accuracy: 0.9571\n",
            "Epoch 4/10\n",
            "94/94 [==============================] - 4s 41ms/step - loss: 0.6965 - accuracy: 0.8250 - val_loss: 0.6544 - val_accuracy: 0.9651\n",
            "Epoch 5/10\n",
            "94/94 [==============================] - 4s 47ms/step - loss: 0.5376 - accuracy: 0.9581 - val_loss: 0.4321 - val_accuracy: 0.9705\n",
            "Epoch 6/10\n",
            "94/94 [==============================] - 4s 39ms/step - loss: 0.3742 - accuracy: 0.9765 - val_loss: 0.3331 - val_accuracy: 0.9799\n",
            "Epoch 7/10\n",
            "94/94 [==============================] - 4s 38ms/step - loss: 0.3076 - accuracy: 0.9806 - val_loss: 0.2883 - val_accuracy: 0.9853\n",
            "Epoch 8/10\n",
            "94/94 [==============================] - 4s 43ms/step - loss: 0.2701 - accuracy: 0.9829 - val_loss: 0.2604 - val_accuracy: 0.9879\n",
            "Epoch 9/10\n",
            "94/94 [==============================] - 4s 42ms/step - loss: 0.2463 - accuracy: 0.9849 - val_loss: 0.2420 - val_accuracy: 0.9906\n",
            "Epoch 10/10\n",
            "94/94 [==============================] - 4s 37ms/step - loss: 0.2269 - accuracy: 0.9899 - val_loss: 0.2244 - val_accuracy: 0.9906\n"
          ]
        }
      ]
    },
    {
      "cell_type": "markdown",
      "source": [
        "## RNN"
      ],
      "metadata": {
        "id": "wO2KtMkDXhbl"
      }
    },
    {
      "cell_type": "code",
      "source": [
        "from keras import initializers\n",
        "\n",
        "Model_2 = Sequential()\n",
        "Model_2.add(Input(shape=(1,),dtype='string'))\n",
        "Model_2.add(text_vectorizer)\n",
        "Model_2.add(embedding)\n",
        "Model_2.add(tf.keras.layers.SimpleRNN(24,\n",
        "                                      kernel_initializer=initializers.RandomNormal(stddev=0.001),\n",
        "                                      recurrent_initializer=initializers.Identity(gain=1.0)))\n",
        "Model_2.add(layers.Dropout(0.8))\n",
        "Model_2.add(Dense(24,activation='relu', \n",
        "                  kernel_regularizer=tf.keras.regularizers.L1(0.2),\n",
        "                  activity_regularizer=tf.keras.regularizers.L2(0.1)))\n",
        "Model_2.add(Dense(1,activation ='sigmoid'))\n",
        "Model_2.summary()"
      ],
      "metadata": {
        "colab": {
          "base_uri": "https://localhost:8080/"
        },
        "id": "BXmgTHBdVpZD",
        "outputId": "b3cb2543-e34b-4edf-98e4-33f6ad1c90e1"
      },
      "execution_count": 66,
      "outputs": [
        {
          "output_type": "stream",
          "name": "stdout",
          "text": [
            "Model: \"sequential_1\"\n",
            "_________________________________________________________________\n",
            " Layer (type)                Output Shape              Param #   \n",
            "=================================================================\n",
            " text_vectorization_1 (TextV  (None, 25)               0         \n",
            " ectorization)                                                   \n",
            "                                                                 \n",
            " embedding_1 (Embedding)     (None, 25, 128)           2560000   \n",
            "                                                                 \n",
            " simple_rnn (SimpleRNN)      (None, 24)                3672      \n",
            "                                                                 \n",
            " dropout_2 (Dropout)         (None, 24)                0         \n",
            "                                                                 \n",
            " dense_4 (Dense)             (None, 24)                600       \n",
            "                                                                 \n",
            " dense_5 (Dense)             (None, 1)                 25        \n",
            "                                                                 \n",
            "=================================================================\n",
            "Total params: 2,564,297\n",
            "Trainable params: 2,564,297\n",
            "Non-trainable params: 0\n",
            "_________________________________________________________________\n"
          ]
        }
      ]
    },
    {
      "cell_type": "code",
      "source": [
        "Model_2.compile(loss = 'binary_crossentropy',\n",
        "                optimizer = Adam(),\n",
        "                metrics = ['accuracy'])\n",
        "\n",
        "Model_2_history = Model_2.fit(X_train,\n",
        "                              y_train,\n",
        "                              epochs =10,\n",
        "                              validation_data = (X_test,y_test),\n",
        "                              )"
      ],
      "metadata": {
        "colab": {
          "base_uri": "https://localhost:8080/"
        },
        "id": "eRrn5HMdU5MV",
        "outputId": "b14f974b-6bfb-42f6-b65c-f76570997247"
      },
      "execution_count": 68,
      "outputs": [
        {
          "output_type": "stream",
          "name": "stdout",
          "text": [
            "Epoch 1/10\n",
            "94/94 [==============================] - 7s 53ms/step - loss: 16.7480 - accuracy: 0.9239 - val_loss: 11.9537 - val_accuracy: 0.9893\n",
            "Epoch 2/10\n",
            "94/94 [==============================] - 5s 57ms/step - loss: 8.4225 - accuracy: 0.9809 - val_loss: 5.1256 - val_accuracy: 0.9839\n",
            "Epoch 3/10\n",
            "94/94 [==============================] - 4s 45ms/step - loss: 3.0633 - accuracy: 0.9826 - val_loss: 1.3926 - val_accuracy: 0.9611\n",
            "Epoch 4/10\n",
            "94/94 [==============================] - 5s 52ms/step - loss: 0.8805 - accuracy: 0.9849 - val_loss: 0.6841 - val_accuracy: 0.9598\n",
            "Epoch 5/10\n",
            "94/94 [==============================] - 5s 53ms/step - loss: 0.6664 - accuracy: 0.9886 - val_loss: 0.6586 - val_accuracy: 0.9491\n",
            "Epoch 6/10\n",
            "94/94 [==============================] - 4s 46ms/step - loss: 0.6352 - accuracy: 0.9889 - val_loss: 0.6361 - val_accuracy: 0.9450\n",
            "Epoch 7/10\n",
            "94/94 [==============================] - 5s 51ms/step - loss: 0.6119 - accuracy: 0.9899 - val_loss: 0.6132 - val_accuracy: 0.9450\n",
            "Epoch 8/10\n",
            "94/94 [==============================] - 5s 52ms/step - loss: 0.5896 - accuracy: 0.9836 - val_loss: 0.5961 - val_accuracy: 0.9437\n",
            "Epoch 9/10\n",
            "94/94 [==============================] - 4s 46ms/step - loss: 0.5710 - accuracy: 0.9832 - val_loss: 0.5834 - val_accuracy: 0.9410\n",
            "Epoch 10/10\n",
            "94/94 [==============================] - 5s 53ms/step - loss: 0.5580 - accuracy: 0.9822 - val_loss: 0.5688 - val_accuracy: 0.9410\n"
          ]
        }
      ]
    },
    {
      "cell_type": "markdown",
      "source": [
        "## LSTM "
      ],
      "metadata": {
        "id": "EJGwAXAgYJGp"
      }
    },
    {
      "cell_type": "code",
      "source": [
        "\n",
        "from tensorflow.keras import regularizers\n",
        "Model_3 = Sequential()\n",
        "Model_3.add(Input(shape=(1,),dtype='string'))\n",
        "Model_3.add(text_vectorizer)\n",
        "Model_3.add(embedding)\n",
        "Model_3.add(layers.LSTM(64))\n",
        "Model_3.add(Dense(64,activation ='relu',\n",
        "            kernel_regularizer = regularizers.L1(0.1),\n",
        "            activity_regularizer= regularizers.L2(0.01)))\n",
        "Model_3.add(Dropout(0.8))\n",
        "Model_3.add(Dense(1,activation = 'sigmoid'))\n",
        "Model_3.summary()"
      ],
      "metadata": {
        "colab": {
          "base_uri": "https://localhost:8080/"
        },
        "id": "oHx1z7cbX3OC",
        "outputId": "c09a7e0c-ecff-46fe-f29d-263d3bf53dfe"
      },
      "execution_count": 69,
      "outputs": [
        {
          "output_type": "stream",
          "name": "stdout",
          "text": [
            "Model: \"sequential_2\"\n",
            "_________________________________________________________________\n",
            " Layer (type)                Output Shape              Param #   \n",
            "=================================================================\n",
            " text_vectorization_1 (TextV  (None, 25)               0         \n",
            " ectorization)                                                   \n",
            "                                                                 \n",
            " embedding_1 (Embedding)     (None, 25, 128)           2560000   \n",
            "                                                                 \n",
            " lstm (LSTM)                 (None, 64)                49408     \n",
            "                                                                 \n",
            " dense_6 (Dense)             (None, 64)                4160      \n",
            "                                                                 \n",
            " dropout_3 (Dropout)         (None, 64)                0         \n",
            "                                                                 \n",
            " dense_7 (Dense)             (None, 1)                 65        \n",
            "                                                                 \n",
            "=================================================================\n",
            "Total params: 2,613,633\n",
            "Trainable params: 2,613,633\n",
            "Non-trainable params: 0\n",
            "_________________________________________________________________\n"
          ]
        }
      ]
    },
    {
      "cell_type": "code",
      "source": [
        "Model_3.compile(loss='binary_crossentropy',\n",
        "                optimizer = Adam(),\n",
        "                metrics = ['accuracy'])\n",
        "Model_3_history = Model_3.fit(X_train,\n",
        "                              y_train,\n",
        "                              epochs =10,\n",
        "                              validation_data = (X_test,y_test),\n",
        "                              )"
      ],
      "metadata": {
        "colab": {
          "base_uri": "https://localhost:8080/"
        },
        "id": "Ig-GJw5PYK2J",
        "outputId": "06104447-a60b-4f72-9f05-c0cf443c0988"
      },
      "execution_count": 70,
      "outputs": [
        {
          "output_type": "stream",
          "name": "stdout",
          "text": [
            "Epoch 1/10\n",
            "94/94 [==============================] - 9s 66ms/step - loss: 28.4186 - accuracy: 0.9745 - val_loss: 14.4989 - val_accuracy: 0.9732\n",
            "Epoch 2/10\n",
            "94/94 [==============================] - 5s 57ms/step - loss: 6.5711 - accuracy: 0.9936 - val_loss: 1.3716 - val_accuracy: 0.9732\n",
            "Epoch 3/10\n",
            "94/94 [==============================] - 5s 52ms/step - loss: 0.7577 - accuracy: 0.9722 - val_loss: 0.6382 - val_accuracy: 0.9705\n",
            "Epoch 4/10\n",
            "94/94 [==============================] - 6s 66ms/step - loss: 0.6181 - accuracy: 0.9675 - val_loss: 0.5979 - val_accuracy: 0.9665\n",
            "Epoch 5/10\n",
            "94/94 [==============================] - 5s 53ms/step - loss: 0.5908 - accuracy: 0.9661 - val_loss: 0.5697 - val_accuracy: 0.9665\n",
            "Epoch 6/10\n",
            "94/94 [==============================] - 5s 57ms/step - loss: 0.5642 - accuracy: 0.9648 - val_loss: 0.5490 - val_accuracy: 0.9665\n",
            "Epoch 7/10\n",
            "94/94 [==============================] - 6s 64ms/step - loss: 0.5445 - accuracy: 0.9651 - val_loss: 0.5287 - val_accuracy: 0.9638\n",
            "Epoch 8/10\n",
            "94/94 [==============================] - 5s 55ms/step - loss: 0.5239 - accuracy: 0.9695 - val_loss: 0.5155 - val_accuracy: 0.9625\n",
            "Epoch 9/10\n",
            "94/94 [==============================] - 7s 72ms/step - loss: 0.5098 - accuracy: 0.9678 - val_loss: 0.5089 - val_accuracy: 0.9625\n",
            "Epoch 10/10\n",
            "94/94 [==============================] - 6s 61ms/step - loss: 0.5013 - accuracy: 0.9695 - val_loss: 0.4893 - val_accuracy: 0.9625\n"
          ]
        }
      ]
    },
    {
      "cell_type": "markdown",
      "source": [
        "## Evaluation and Comparision"
      ],
      "metadata": {
        "id": "O5hg4OlpYgcq"
      }
    },
    {
      "cell_type": "code",
      "source": [
        "\n",
        "Evaluation_Table = pd.DataFrame(columns=['Model','Accuracy','Precission','F1 Score','Recall','ROC_AUC'])\n",
        "MN = []\n",
        "As =[]\n",
        "ps =[]\n",
        "f1 =[]\n",
        "rs =[]\n",
        "auc =[]\n",
        "from sklearn.metrics import f1_score, accuracy_score, precision_score, recall_score ,roc_auc_score\n",
        "def add2table(model ,model_name,X =X_test , y =y_test):\n",
        "  y_pred = model.predict(X)\n",
        "  MN.append(model_name)\n",
        "  As.append(accuracy_score(y,tf.round(y_pred)))\n",
        "  ps.append(precision_score(y,tf.round(y_pred)))\n",
        "  f1.append(f1_score(y,tf.round(y_pred)))\n",
        "  rs.append(recall_score(y,tf.round(y_pred)))\n",
        "  auc.append(roc_auc_score(y,tf.round(y_pred))) "
      ],
      "metadata": {
        "id": "blv_tFqGYWvI"
      },
      "execution_count": 72,
      "outputs": []
    },
    {
      "cell_type": "code",
      "source": [
        "add2table(model0,'Naive Bayes')\n",
        "add2table(Model_1,'ANN - TwoLayers')\n",
        "add2table(Model_2,'Simple RNN')\n",
        "add2table(Model_3,'LSTM')"
      ],
      "metadata": {
        "colab": {
          "base_uri": "https://localhost:8080/"
        },
        "id": "XuavJ0vBYlIP",
        "outputId": "846099ee-ac8d-430d-edcd-f630a6e30e12"
      },
      "execution_count": 73,
      "outputs": [
        {
          "output_type": "stream",
          "name": "stdout",
          "text": [
            "24/24 [==============================] - 0s 4ms/step\n",
            "24/24 [==============================] - 0s 6ms/step\n",
            "24/24 [==============================] - 1s 10ms/step\n"
          ]
        }
      ]
    },
    {
      "cell_type": "code",
      "source": [
        "Evaluation_Table = pd.DataFrame(np.array([MN,As,ps,f1,rs,auc]).T,\n",
        "                                columns=['Model','Accuracy','Precission','F1 Score','Recall','ROC_AUC'])\n",
        "for col in Evaluation_Table.columns:\n",
        "  try : \n",
        "    Evaluation_Table[col] = Evaluation_Table[col].astype('float')\n",
        "    Evaluation_Table[col] = Evaluation_Table[col].apply(np.round(decimals =2))\n",
        "  except :\n",
        "    continue \n",
        "Evaluation_Table.info()"
      ],
      "metadata": {
        "colab": {
          "base_uri": "https://localhost:8080/"
        },
        "id": "7eILLoycY1cY",
        "outputId": "bf91238b-009d-4c31-ea3d-6523881e7117"
      },
      "execution_count": 74,
      "outputs": [
        {
          "output_type": "stream",
          "name": "stdout",
          "text": [
            "<class 'pandas.core.frame.DataFrame'>\n",
            "RangeIndex: 4 entries, 0 to 3\n",
            "Data columns (total 6 columns):\n",
            " #   Column      Non-Null Count  Dtype  \n",
            "---  ------      --------------  -----  \n",
            " 0   Model       4 non-null      object \n",
            " 1   Accuracy    4 non-null      float64\n",
            " 2   Precission  4 non-null      float64\n",
            " 3   F1 Score    4 non-null      float64\n",
            " 4   Recall      4 non-null      float64\n",
            " 5   ROC_AUC     4 non-null      float64\n",
            "dtypes: float64(5), object(1)\n",
            "memory usage: 320.0+ bytes\n"
          ]
        }
      ]
    },
    {
      "cell_type": "code",
      "source": [
        "Evaluation_Table"
      ],
      "metadata": {
        "colab": {
          "base_uri": "https://localhost:8080/",
          "height": 175
        },
        "id": "4iSDbHuLY8n2",
        "outputId": "6b4d4e6d-2358-4b22-ade2-c0ea502afd0c"
      },
      "execution_count": 75,
      "outputs": [
        {
          "output_type": "execute_result",
          "data": {
            "text/plain": [
              "             Model  Accuracy  Precission  F1 Score    Recall   ROC_AUC\n",
              "0      Naive Bayes  0.978552    0.994083  0.976744  0.960000  0.977475\n",
              "1  ANN - TwoLayers  0.990617    0.985836  0.990043  0.994286  0.990830\n",
              "2       Simple RNN  0.943700    0.918478  0.941504  0.965714  0.944978\n",
              "3             LSTM  0.962466    0.939891  0.960894  0.982857  0.963651"
            ],
            "text/html": [
              "\n",
              "  <div id=\"df-a93da2a0-d139-4862-be78-5b26f4269547\">\n",
              "    <div class=\"colab-df-container\">\n",
              "      <div>\n",
              "<style scoped>\n",
              "    .dataframe tbody tr th:only-of-type {\n",
              "        vertical-align: middle;\n",
              "    }\n",
              "\n",
              "    .dataframe tbody tr th {\n",
              "        vertical-align: top;\n",
              "    }\n",
              "\n",
              "    .dataframe thead th {\n",
              "        text-align: right;\n",
              "    }\n",
              "</style>\n",
              "<table border=\"1\" class=\"dataframe\">\n",
              "  <thead>\n",
              "    <tr style=\"text-align: right;\">\n",
              "      <th></th>\n",
              "      <th>Model</th>\n",
              "      <th>Accuracy</th>\n",
              "      <th>Precission</th>\n",
              "      <th>F1 Score</th>\n",
              "      <th>Recall</th>\n",
              "      <th>ROC_AUC</th>\n",
              "    </tr>\n",
              "  </thead>\n",
              "  <tbody>\n",
              "    <tr>\n",
              "      <th>0</th>\n",
              "      <td>Naive Bayes</td>\n",
              "      <td>0.978552</td>\n",
              "      <td>0.994083</td>\n",
              "      <td>0.976744</td>\n",
              "      <td>0.960000</td>\n",
              "      <td>0.977475</td>\n",
              "    </tr>\n",
              "    <tr>\n",
              "      <th>1</th>\n",
              "      <td>ANN - TwoLayers</td>\n",
              "      <td>0.990617</td>\n",
              "      <td>0.985836</td>\n",
              "      <td>0.990043</td>\n",
              "      <td>0.994286</td>\n",
              "      <td>0.990830</td>\n",
              "    </tr>\n",
              "    <tr>\n",
              "      <th>2</th>\n",
              "      <td>Simple RNN</td>\n",
              "      <td>0.943700</td>\n",
              "      <td>0.918478</td>\n",
              "      <td>0.941504</td>\n",
              "      <td>0.965714</td>\n",
              "      <td>0.944978</td>\n",
              "    </tr>\n",
              "    <tr>\n",
              "      <th>3</th>\n",
              "      <td>LSTM</td>\n",
              "      <td>0.962466</td>\n",
              "      <td>0.939891</td>\n",
              "      <td>0.960894</td>\n",
              "      <td>0.982857</td>\n",
              "      <td>0.963651</td>\n",
              "    </tr>\n",
              "  </tbody>\n",
              "</table>\n",
              "</div>\n",
              "      <button class=\"colab-df-convert\" onclick=\"convertToInteractive('df-a93da2a0-d139-4862-be78-5b26f4269547')\"\n",
              "              title=\"Convert this dataframe to an interactive table.\"\n",
              "              style=\"display:none;\">\n",
              "        \n",
              "  <svg xmlns=\"http://www.w3.org/2000/svg\" height=\"24px\"viewBox=\"0 0 24 24\"\n",
              "       width=\"24px\">\n",
              "    <path d=\"M0 0h24v24H0V0z\" fill=\"none\"/>\n",
              "    <path d=\"M18.56 5.44l.94 2.06.94-2.06 2.06-.94-2.06-.94-.94-2.06-.94 2.06-2.06.94zm-11 1L8.5 8.5l.94-2.06 2.06-.94-2.06-.94L8.5 2.5l-.94 2.06-2.06.94zm10 10l.94 2.06.94-2.06 2.06-.94-2.06-.94-.94-2.06-.94 2.06-2.06.94z\"/><path d=\"M17.41 7.96l-1.37-1.37c-.4-.4-.92-.59-1.43-.59-.52 0-1.04.2-1.43.59L10.3 9.45l-7.72 7.72c-.78.78-.78 2.05 0 2.83L4 21.41c.39.39.9.59 1.41.59.51 0 1.02-.2 1.41-.59l7.78-7.78 2.81-2.81c.8-.78.8-2.07 0-2.86zM5.41 20L4 18.59l7.72-7.72 1.47 1.35L5.41 20z\"/>\n",
              "  </svg>\n",
              "      </button>\n",
              "      \n",
              "  <style>\n",
              "    .colab-df-container {\n",
              "      display:flex;\n",
              "      flex-wrap:wrap;\n",
              "      gap: 12px;\n",
              "    }\n",
              "\n",
              "    .colab-df-convert {\n",
              "      background-color: #E8F0FE;\n",
              "      border: none;\n",
              "      border-radius: 50%;\n",
              "      cursor: pointer;\n",
              "      display: none;\n",
              "      fill: #1967D2;\n",
              "      height: 32px;\n",
              "      padding: 0 0 0 0;\n",
              "      width: 32px;\n",
              "    }\n",
              "\n",
              "    .colab-df-convert:hover {\n",
              "      background-color: #E2EBFA;\n",
              "      box-shadow: 0px 1px 2px rgba(60, 64, 67, 0.3), 0px 1px 3px 1px rgba(60, 64, 67, 0.15);\n",
              "      fill: #174EA6;\n",
              "    }\n",
              "\n",
              "    [theme=dark] .colab-df-convert {\n",
              "      background-color: #3B4455;\n",
              "      fill: #D2E3FC;\n",
              "    }\n",
              "\n",
              "    [theme=dark] .colab-df-convert:hover {\n",
              "      background-color: #434B5C;\n",
              "      box-shadow: 0px 1px 3px 1px rgba(0, 0, 0, 0.15);\n",
              "      filter: drop-shadow(0px 1px 2px rgba(0, 0, 0, 0.3));\n",
              "      fill: #FFFFFF;\n",
              "    }\n",
              "  </style>\n",
              "\n",
              "      <script>\n",
              "        const buttonEl =\n",
              "          document.querySelector('#df-a93da2a0-d139-4862-be78-5b26f4269547 button.colab-df-convert');\n",
              "        buttonEl.style.display =\n",
              "          google.colab.kernel.accessAllowed ? 'block' : 'none';\n",
              "\n",
              "        async function convertToInteractive(key) {\n",
              "          const element = document.querySelector('#df-a93da2a0-d139-4862-be78-5b26f4269547');\n",
              "          const dataTable =\n",
              "            await google.colab.kernel.invokeFunction('convertToInteractive',\n",
              "                                                     [key], {});\n",
              "          if (!dataTable) return;\n",
              "\n",
              "          const docLinkHtml = 'Like what you see? Visit the ' +\n",
              "            '<a target=\"_blank\" href=https://colab.research.google.com/notebooks/data_table.ipynb>data table notebook</a>'\n",
              "            + ' to learn more about interactive tables.';\n",
              "          element.innerHTML = '';\n",
              "          dataTable['output_type'] = 'display_data';\n",
              "          await google.colab.output.renderOutput(dataTable, element);\n",
              "          const docLink = document.createElement('div');\n",
              "          docLink.innerHTML = docLinkHtml;\n",
              "          element.appendChild(docLink);\n",
              "        }\n",
              "      </script>\n",
              "    </div>\n",
              "  </div>\n",
              "  "
            ]
          },
          "metadata": {},
          "execution_count": 75
        }
      ]
    },
    {
      "cell_type": "code",
      "source": [
        "from sklearn.metrics import confusion_matrix\n",
        "\n",
        "def plot_confusion_matrix(model ,model_name,X = X_test , y = y_test):\n",
        "  y_pred = tf.round(model.predict(X))\n",
        "  cf_matrix= confusion_matrix(y,y_pred)\n",
        "  ax = sns.heatmap(cf_matrix, annot=True,fmt='d',cmap='Blues')\n",
        "\n",
        "  ax.set_title(model_name);\n",
        "  ax.set_xlabel('\\nPredicted Values')\n",
        "  ax.set_ylabel('Actual Values ');\n",
        "\n",
        "## Ticket labels - List must be in alphabetical order\n",
        "  ax.xaxis.set_ticklabels(['FAKE','REAL'])\n",
        "  ax.yaxis.set_ticklabels(['FAKE','REAL'])\n",
        "     "
      ],
      "metadata": {
        "id": "PkmFXceuY_tA"
      },
      "execution_count": 78,
      "outputs": []
    },
    {
      "cell_type": "code",
      "source": [
        "plot_confusion_matrix(model0,'Naive Bayes')"
      ],
      "metadata": {
        "colab": {
          "base_uri": "https://localhost:8080/",
          "height": 307
        },
        "id": "NnKRhpZhZJt7",
        "outputId": "ded6241b-3639-41c0-d67f-7662a28bf1d5"
      },
      "execution_count": 79,
      "outputs": [
        {
          "output_type": "display_data",
          "data": {
            "text/plain": [
              "<Figure size 432x288 with 2 Axes>"
            ],
            "image/png": "[encoded data removed]"
          },
          "metadata": {
            "needs_background": "light"
          }
        }
      ]
    },
    {
      "cell_type": "code",
      "source": [
        "plot_confusion_matrix(Model_1,'ANN - Two Layers')"
      ],
      "metadata": {
        "colab": {
          "base_uri": "https://localhost:8080/",
          "height": 325
        },
        "id": "kHVE9WCMZhIh",
        "outputId": "5e4a8696-1cad-421b-9b2d-12ee61669956"
      },
      "execution_count": 80,
      "outputs": [
        {
          "output_type": "stream",
          "name": "stdout",
          "text": [
            "24/24 [==============================] - 0s 5ms/step\n"
          ]
        },
        {
          "output_type": "display_data",
          "data": {
            "text/plain": [
              "<Figure size 432x288 with 2 Axes>"
            ],
            "image/png": "[encoded data removed]"
          },
          "metadata": {
            "needs_background": "light"
          }
        }
      ]
    },
    {
      "cell_type": "code",
      "source": [
        "plot_confusion_matrix(Model_2,'Recurrent Neural Network')"
      ],
      "metadata": {
        "colab": {
          "base_uri": "https://localhost:8080/",
          "height": 325
        },
        "id": "ODwbpD6hZr0I",
        "outputId": "f6011f70-a859-424a-f4a2-a318def053ca"
      },
      "execution_count": 82,
      "outputs": [
        {
          "output_type": "stream",
          "name": "stdout",
          "text": [
            "24/24 [==============================] - 0s 6ms/step\n"
          ]
        },
        {
          "output_type": "display_data",
          "data": {
            "text/plain": [
              "<Figure size 432x288 with 2 Axes>"
            ],
            "image/png": "[encoded data removed]"
          },
          "metadata": {
            "needs_background": "light"
          }
        }
      ]
    },
    {
      "cell_type": "code",
      "source": [
        "plot_confusion_matrix(Model_3,'LSTM')"
      ],
      "metadata": {
        "colab": {
          "base_uri": "https://localhost:8080/",
          "height": 325
        },
        "id": "HOgT0M_8Zz7-",
        "outputId": "14ed5aa6-9678-4545-cf64-98f9b0bd970b"
      },
      "execution_count": 83,
      "outputs": [
        {
          "output_type": "stream",
          "name": "stdout",
          "text": [
            "24/24 [==============================] - 0s 10ms/step\n"
          ]
        },
        {
          "output_type": "display_data",
          "data": {
            "text/plain": [
              "<Figure size 432x288 with 2 Axes>"
            ],
            "image/png": "[encoded data removed]"
          },
          "metadata": {
            "needs_background": "light"
          }
        }
      ]
    },
    {
      "cell_type": "markdown",
      "source": [
        "# The best performing model is the ANN with Two Layers with 99% accuracy"
      ],
      "metadata": {
        "id": "YLw14asOZ_Ys"
      }
    }
  ]
}